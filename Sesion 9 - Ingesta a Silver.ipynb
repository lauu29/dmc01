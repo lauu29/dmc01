{
 "cells": [
  {
   "cell_type": "code",
   "execution_count": 0,
   "metadata": {
    "application/vnd.databricks.v1+cell": {
     "cellMetadata": {
      "byteLimit": 2048000,
      "rowLimit": 10000
     },
     "inputWidgets": {},
     "nuid": "0d56f521-bc5f-46e8-b932-bebd306aaeac",
     "showTitle": false,
     "tableResultSettingsMap": {},
     "title": ""
    }
   },
   "outputs": [],
   "source": [
    "table = dbutils.widgets.text(\"table\", \"\")\n",
    "table = dbutils.widgets.get(\"table\")"
   ]
  },
  {
   "cell_type": "code",
   "execution_count": 0,
   "metadata": {
    "application/vnd.databricks.v1+cell": {
     "cellMetadata": {
      "byteLimit": 2048000,
      "rowLimit": 10000
     },
     "inputWidgets": {},
     "nuid": "54d1ff9d-f548-47e2-875f-a279292cc2de",
     "showTitle": false,
     "tableResultSettingsMap": {},
     "title": ""
    }
   },
   "outputs": [],
   "source": [
    "from pyspark.sql.functions import col, to_date, to_timestamp, row_number, current_timestamp, current_date, sha2, concat_ws, lit, expr\n",
    "from pyspark.sql.window import Window\n",
    "from pyspark.sql.utils import AnalysisException\n",
    "from delta.tables import DeltaTable\n",
    "import uuid"
   ]
  },
  {
   "cell_type": "code",
   "execution_count": 0,
   "metadata": {
    "application/vnd.databricks.v1+cell": {
     "cellMetadata": {
      "byteLimit": 2048000,
      "rowLimit": 10000
     },
     "inputWidgets": {},
     "nuid": "a8e2d003-b8bd-4414-bf7b-45a42189d630",
     "showTitle": false,
     "tableResultSettingsMap": {},
     "title": ""
    }
   },
   "outputs": [],
   "source": [
    "# Creamos catalogo y schema\n",
    "catalog_name = \"sesion_08\"\n",
    "schema_bronze = \"bronze\""
   ]
  },
  {
   "cell_type": "code",
   "execution_count": 0,
   "metadata": {
    "application/vnd.databricks.v1+cell": {
     "cellMetadata": {
      "byteLimit": 2048000,
      "rowLimit": 10000
     },
     "inputWidgets": {},
     "nuid": "a450da12-e824-411e-b8d0-051eaf3f753b",
     "showTitle": false,
     "tableResultSettingsMap": {},
     "title": ""
    }
   },
   "outputs": [],
   "source": [
    "ventas=spark.table(f\"{catalog_name}.{schema_bronze}.{table}\")"
   ]
  },
  {
   "cell_type": "code",
   "execution_count": 0,
   "metadata": {
    "application/vnd.databricks.v1+cell": {
     "cellMetadata": {
      "byteLimit": 2048000,
      "rowLimit": 10000
     },
     "inputWidgets": {},
     "nuid": "45afc38b-de5e-4cd6-bc97-300cec5cef11",
     "showTitle": false,
     "tableResultSettingsMap": {},
     "title": ""
    }
   },
   "outputs": [],
   "source": [
    "silver_ventas = (\n",
    "    ventas\n",
    "    .withColumn(\"id_linea\", col(\"id_linea\").cast(\"int\"))\n",
    "    .withColumn(\"id_tienda\", col(\"id_tienda\").cast(\"int\"))\n",
    "    .withColumn(\"id_cliente\", col(\"id_cliente\").cast(\"int\"))\n",
    "    .withColumn(\"id_producto\", col(\"id_producto\").cast(\"int\"))\n",
    "    .withColumn(\"fecha_venta\", to_date(col(\"fecha_venta\"), \"yyyy-MM-dd\"))\n",
    "    .withColumn(\"cantidad\", col(\"cantidad\").cast(\"int\"))\n",
    "    .withColumn(\"precio_unitario\", col(\"precio_unitario\").cast(\"decimal(18,2)\"))\n",
    "    .withColumn(\"updated_at\", to_timestamp(col(\"updated_at\")))\n",
    "    .drop(\"ingest_at\")\n",
    ")"
   ]
  },
  {
   "cell_type": "code",
   "execution_count": 0,
   "metadata": {
    "application/vnd.databricks.v1+cell": {
     "cellMetadata": {
      "byteLimit": 2048000,
      "rowLimit": 10000
     },
     "inputWidgets": {},
     "nuid": "68f40366-e4b0-4a70-b96c-2c524b586854",
     "showTitle": false,
     "tableResultSettingsMap": {},
     "title": ""
    }
   },
   "outputs": [],
   "source": [
    "merge = (\n",
    "    target.alias(\"m\")\n",
    "    .merge(\n",
    "        silver_ventas_dedup.alias(\"in\"),\n",
    "        (col(\"m.id_venta\") == col(\"in.id_venta\")) &\n",
    "        (col(\"m.id_linea\") == col(\"in.id_linea\"))\n",
    "    )\n",
    "    .whenMatchedUpdate(\n",
    "        condition=\"in.updated_at > m.updated_at\",\n",
    "        set={\n",
    "            \"id_tienda\": col(\"in.id_tienda\"),\n",
    "            \"id_cliente\": col(\"in.id_cliente\"),\n",
    "            \"id_producto\": col(\"in.id_producto\"),\n",
    "            \"fecha_venta\": col(\"in.fecha_venta\"),\n",
    "            \"cantidad\": col(\"in.cantidad\"),\n",
    "            \"precio_unitario\": col(\"in.precio_unitario\"),\n",
    "            \"updated_at\": col(\"in.updated_at\")\n",
    "        }\n",
    "    )\n",
    "    .whenNotMatchedInsert(\n",
    "        values={\n",
    "            \"id_venta\": col(\"in.id_venta\"),\n",
    "            \"id_linea\": col(\"in.id_linea\"),\n",
    "            \"id_tienda\": col(\"in.id_tienda\"),\n",
    "            \"id_cliente\": col(\"in.id_cliente\"),\n",
    "            \"id_producto\": col(\"in.id_producto\"),\n",
    "            \"fecha_venta\": col(\"in.fecha_venta\"),\n",
    "            \"cantidad\": col(\"in.cantidad\"),\n",
    "            \"precio_unitario\": col(\"in.precio_unitario\"),\n",
    "            \"updated_at\": col(\"in.updated_at\")\n",
    "        }\n",
    "    )\n",
    "    .execute()\n",
    ")"
   ]
  }
 ],
 "metadata": {
  "application/vnd.databricks.v1+notebook": {
   "computePreferences": null,
   "dashboards": [],
   "environmentMetadata": {
    "base_environment": "",
    "environment_version": "3"
   },
   "inputWidgetPreferences": null,
   "language": "python",
   "notebookMetadata": {
    "pythonIndentUnit": 4
   },
   "notebookName": "Sesion 9 - Ingesta a Silver",
   "widgets": {
    "table": {
     "currentValue": "ventas",
     "nuid": "6f75fa63-855d-48ff-9eb9-65a5be719801",
     "typedWidgetInfo": {
      "autoCreated": false,
      "defaultValue": "",
      "label": null,
      "name": "table",
      "options": {
       "widgetDisplayType": "Text",
       "validationRegex": null
      },
      "parameterDataType": "String"
     },
     "widgetInfo": {
      "widgetType": "text",
      "defaultValue": "",
      "label": null,
      "name": "table",
      "options": {
       "widgetType": "text",
       "autoCreated": null,
       "validationRegex": null
      }
     }
    }
   }
  },
  "language_info": {
   "name": "python"
  }
 },
 "nbformat": 4,
 "nbformat_minor": 0
}
